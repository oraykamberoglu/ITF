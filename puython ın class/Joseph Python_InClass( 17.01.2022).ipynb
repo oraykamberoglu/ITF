{
 "cells": [
  {
   "cell_type": "code",
   "execution_count": 21,
   "id": "6150e81a",
   "metadata": {},
   "outputs": [
    {
     "name": "stdout",
     "output_type": "stream",
     "text": [
      "30\n"
     ]
    }
   ],
   "source": [
    "my_age = 33\n",
    "your_age = 30\n",
    "my_age = your_age\n",
    "print(my_age)\n",
    "# my_age değişkeni your_age değişkenine atanmıştır."
   ]
  },
  {
   "cell_type": "code",
   "execution_count": 3,
   "id": "949823b5",
   "metadata": {},
   "outputs": [],
   "source": [
    "variable = 3.14\n",
    "VAR_ONE = 'something'# Büyük harf tavsiye edilmez."
   ]
  },
  {
   "cell_type": "code",
   "execution_count": 4,
   "id": "6fc74204",
   "metadata": {},
   "outputs": [
    {
     "ename": "SyntaxError",
     "evalue": "invalid syntax (151506269.py, line 1)",
     "output_type": "error",
     "traceback": [
      "\u001b[0;36m  File \u001b[0;32m\"/var/folders/4h/lcp0fmjd2fl31t_ntbzk7zrc0000gn/T/ipykernel_4678/151506269.py\"\u001b[0;36m, line \u001b[0;32m1\u001b[0m\n\u001b[0;31m    if\u001b[0m\n\u001b[0m      ^\u001b[0m\n\u001b[0;31mSyntaxError\u001b[0m\u001b[0;31m:\u001b[0m invalid syntax\n"
     ]
    }
   ],
   "source": [
    "if\n",
    "or\n",
    "and\n",
    "True\n",
    "False\n",
    "in\n",
    "while\n",
    "for\n",
    "else\n",
    "pass\n",
    "break\n",
    "yield\n",
    "# Değişkenlere pythonun sıkça kullandığı\n",
    "# kelimelerle isim vermemeye çalışmalıyız."
   ]
  },
  {
   "cell_type": "code",
   "execution_count": 5,
   "id": "07f5db16",
   "metadata": {},
   "outputs": [
    {
     "name": "stdout",
     "output_type": "stream",
     "text": [
      "same\n",
      "same\n",
      "same\n"
     ]
    }
   ],
   "source": [
    "x = y = z = \"same\"\n",
    "print(x)\n",
    "print(y)\n",
    "print(z)\n",
    "# değer atamalarında sağdan sola atama yapmalı , bu mantıkla düşünmeliyiz. "
   ]
  },
  {
   "cell_type": "code",
   "execution_count": 8,
   "id": "c35516a7",
   "metadata": {},
   "outputs": [
    {
     "name": "stdout",
     "output_type": "stream",
     "text": [
      "31 28 31 30 31 30 31 31 30 31 30 30\n"
     ]
    }
   ],
   "source": [
    "jan = march = may = aug = july = octo = dec = 31\n",
    "feb = 28\n",
    "apr = june = sept = nov = dec = 30\n",
    "print (jan, feb, march, apr, may , june, july, aug, sept, octo, nov, dec)"
   ]
  },
  {
   "cell_type": "code",
   "execution_count": 12,
   "id": "303350b3",
   "metadata": {},
   "outputs": [
    {
     "name": "stdout",
     "output_type": "stream",
     "text": [
      "33 28 none 46\n"
     ]
    }
   ],
   "source": [
    "thomas = 33\n",
    "marry = 28\n",
    "walter = 'none' # rezerve etmek istediğimiz değere value olarak none atanır.\n",
    "isabella = 46\n",
    "print(thomas, marry, walter, isabella)"
   ]
  },
  {
   "cell_type": "code",
   "execution_count": 17,
   "id": "855b8f0d",
   "metadata": {},
   "outputs": [
    {
     "name": "stdout",
     "output_type": "stream",
     "text": [
      "apple.com\n",
      "clarusway.com\n"
     ]
    }
   ],
   "source": [
    "website = \"apple.com\"\n",
    "print(website)\n",
    "website = \"clarusway.com\"\n",
    "print(website)"
   ]
  },
  {
   "cell_type": "code",
   "execution_count": 18,
   "id": "1bf8e5e7",
   "metadata": {},
   "outputs": [
    {
     "name": "stdout",
     "output_type": "stream",
     "text": [
      "33 55 33\n"
     ]
    }
   ],
   "source": [
    "a = 11\n",
    "b = 22\n",
    "c = 44\n",
    "a = 33\n",
    "b = 55\n",
    "c = a\n",
    "print(a, b, c)"
   ]
  },
  {
   "cell_type": "code",
   "execution_count": 19,
   "id": "0f12048f",
   "metadata": {},
   "outputs": [
    {
     "name": "stdout",
     "output_type": "stream",
     "text": [
      "33\n",
      "33\n",
      "15\n"
     ]
    }
   ],
   "source": [
    "x = 15\n",
    "y = 33\n",
    "z = x\n",
    "x = y\n",
    "print(x)\n",
    "print(y)\n",
    "print(z)\n",
    "# son verilen değere odaklanmalıyız."
   ]
  },
  {
   "cell_type": "code",
   "execution_count": 20,
   "id": "93027753",
   "metadata": {},
   "outputs": [
    {
     "name": "stdout",
     "output_type": "stream",
     "text": [
      "5\n",
      "3.2\n",
      "hello\n"
     ]
    }
   ],
   "source": [
    "a, b, c = 5, 3.2, \"hello\"\n",
    "print(a)\n",
    "print(b)\n",
    "print(c)"
   ]
  },
  {
   "cell_type": "code",
   "execution_count": 23,
   "id": "d41ee49d",
   "metadata": {},
   "outputs": [
    {
     "name": "stdout",
     "output_type": "stream",
     "text": [
      "<class 'str'>\n"
     ]
    }
   ],
   "source": [
    "my_text = 'being a good person'\n",
    "print(type(my_text))\n",
    "# print komutunun içinde \"type\" fonk. çalıştırırsak tür çıktısı verir."
   ]
  },
  {
   "cell_type": "code",
   "execution_count": 28,
   "id": "a73649e7",
   "metadata": {},
   "outputs": [
    {
     "name": "stdout",
     "output_type": "stream",
     "text": [
      "40\n",
      "-18\n"
     ]
    }
   ],
   "source": [
    "my_integer = 40\n",
    "negative_number = -18\n",
    "print(my_integer)\n",
    "print(negative_number)\n",
    "# pozitif yada negatif tamsayıların ondalıksız halini verir."
   ]
  },
  {
   "cell_type": "code",
   "execution_count": 31,
   "id": "5fb5db69",
   "metadata": {},
   "outputs": [
    {
     "name": "stdout",
     "output_type": "stream",
     "text": [
      "40.0\n",
      "-18.6\n"
     ]
    }
   ],
   "source": [
    "my_float = 40.0\n",
    "negative_float = -18.6\n",
    "print(my_float)\n",
    "print(negative_float)\n",
    "# sayıları ondalıklı kısmıyla yazdırır."
   ]
  },
  {
   "cell_type": "code",
   "execution_count": 32,
   "id": "903a02d1",
   "metadata": {},
   "outputs": [
    {
     "name": "stdout",
     "output_type": "stream",
     "text": [
      "<class 'str'>\n"
     ]
    }
   ],
   "source": [
    "my_data = 'I am string'\n",
    "print(type(my_data))"
   ]
  },
  {
   "cell_type": "code",
   "execution_count": 33,
   "id": "bdabac4b",
   "metadata": {},
   "outputs": [
    {
     "data": {
      "text/plain": [
       "'3.14'"
      ]
     },
     "execution_count": 33,
     "metadata": {},
     "output_type": "execute_result"
    }
   ],
   "source": [
    "str(3.14)\n"
   ]
  },
  {
   "cell_type": "code",
   "execution_count": 34,
   "id": "3d59a0c7",
   "metadata": {},
   "outputs": [
    {
     "data": {
      "text/plain": [
       "'False'"
      ]
     },
     "execution_count": 34,
     "metadata": {},
     "output_type": "execute_result"
    }
   ],
   "source": [
    "str(False)"
   ]
  },
  {
   "cell_type": "code",
   "execution_count": 35,
   "id": "8b3d57f4",
   "metadata": {},
   "outputs": [
    {
     "name": "stdout",
     "output_type": "stream",
     "text": [
      "3\n",
      "<class 'int'>\n"
     ]
    }
   ],
   "source": [
    "pi = 3.14\n",
    "converted_pi = int(pi)\n",
    "print(converted_pi)\n",
    "print(type(converted_pi))\n",
    "# float integer dönüşümü\n"
   ]
  },
  {
   "cell_type": "code",
   "execution_count": 38,
   "id": "01e034b2",
   "metadata": {},
   "outputs": [
    {
     "name": "stdout",
     "output_type": "stream",
     "text": [
      "78.5\n"
     ]
    }
   ],
   "source": [
    "pi = 3.14\n",
    "r = 5\n",
    "print(pi*r*r)"
   ]
  },
  {
   "cell_type": "code",
   "execution_count": 39,
   "id": "5d73b4b7",
   "metadata": {},
   "outputs": [
    {
     "name": "stdout",
     "output_type": "stream",
     "text": [
      "78.5\n"
     ]
    }
   ],
   "source": [
    "r = 5\n",
    "area = 3.14 * r * r\n",
    "print(area)\n"
   ]
  },
  {
   "cell_type": "code",
   "execution_count": null,
   "id": "f6c02b48",
   "metadata": {},
   "outputs": [],
   "source": []
  }
 ],
 "metadata": {
  "kernelspec": {
   "display_name": "Python 3 (ipykernel)",
   "language": "python",
   "name": "python3"
  },
  "language_info": {
   "codemirror_mode": {
    "name": "ipython",
    "version": 3
   },
   "file_extension": ".py",
   "mimetype": "text/x-python",
   "name": "python",
   "nbconvert_exporter": "python",
   "pygments_lexer": "ipython3",
   "version": "3.9.7"
  }
 },
 "nbformat": 4,
 "nbformat_minor": 5
}
