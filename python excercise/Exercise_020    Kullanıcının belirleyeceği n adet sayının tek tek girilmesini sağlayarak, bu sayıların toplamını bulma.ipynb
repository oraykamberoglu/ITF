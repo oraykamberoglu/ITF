{
  "cells": [
    {
      "cell_type": "markdown",
      "metadata": {
        "id": "nhdCIEBuB6sz"
      },
      "source": [
        "**Exercise - 20**\n",
        "\n",
        "In each while loop, take a number from the user and add the numbers entered by the user to a variable named \"sum\". When the user presses the \"q\" key, terminate the loop and print the \"sum variable\" to the screen.\n",
        "\n",
        "Her while döngüsünde kullanıcıdan bir sayı alın ve kullanıcı tarafından girilen sayıları \"sum\" adlı bir değişkene ekleyin. Kullanıcı \"q\" tuşuna bastığında döngüyü sonlandırın ve ekrana \"toplam değişkeni\" yazdırın."
      ]
    },
    {
      "cell_type": "code",
      "execution_count": 1,
      "metadata": {
        "colab": {
          "base_uri": "https://localhost:8080/"
        },
        "id": "tz7Um-TyB608",
        "outputId": "6d2c86ab-ffd1-44d7-a30a-03567781a736"
      },
      "outputs": [
        {
          "name": "stdout",
          "output_type": "stream",
          "text": [
            "Please enter a number, press 'q' to quit: 50\n",
            "Please enter a number, press 'q' to quit: 24\n",
            "Please enter a number, press 'q' to quit: 78\n",
            "Please enter a number, press 'q' to quit: q\n",
            "The sum of the numbers you entered:  152\n"
          ]
        }
      ],
      "source": [
        "sum = 0\n",
        "while True :\n",
        "  number = input(\"Please enter a number, press 'q' to quit: \" )\n",
        "  if number == \"q\" :\n",
        "    break\n",
        "  else :\n",
        "    sum += int(number)\n",
        "\n",
        "print(\"The sum of the numbers you entered: \", sum)"
      ]
    }
  ],
  "metadata": {
    "colab": {
      "collapsed_sections": [],
      "name": "Exercise - 20.ipynb",
      "provenance": []
    },
    "kernelspec": {
      "display_name": "Python 3",
      "name": "python3"
    },
    "language_info": {
      "name": "python"
    }
  },
  "nbformat": 4,
  "nbformat_minor": 0
}
