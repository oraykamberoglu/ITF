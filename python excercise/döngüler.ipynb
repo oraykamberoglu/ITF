{
 "cells": [
  {
   "cell_type": "code",
   "execution_count": null,
   "id": "2d1cf09e",
   "metadata": {},
   "outputs": [],
   "source": [
    "sayı = int(input(\"sayı : \"))\n",
    "\n",
    "i = 1\n",
    "toplam = 0\n",
    "\n",
    "while ( i < sayı):\n",
    "    if sayı % i == 0:\n",
    "        toplam += i\n",
    "    i += 1\n",
    "    \n",
    "if(toplam == sayı):\n",
    "    print(sayı,\"mükemmel bir sayıdır.\")\n",
    "else :\n",
    "    print(sayı,\"mükemmel bir sayı değildir.\")"
   ]
  },
  {
   "cell_type": "code",
   "execution_count": 5,
   "id": "2767f201",
   "metadata": {},
   "outputs": [
    {
     "name": "stdout",
     "output_type": "stream",
     "text": [
      "sayı371\n",
      "371 bir armstrong sayısıdır.\n"
     ]
    }
   ],
   "source": [
    "sayı = input(\"sayı\")\n",
    "basamak_sayısı = len(sayı)\n",
    "basamak = 0\n",
    "toplam = 0\n",
    "sayı = int(sayı)\n",
    "\n",
    "gecici_sayı = sayı\n",
    "\n",
    "while (gecici_sayı > 0):\n",
    "    \n",
    "    basamak = gecici_sayı % 10\n",
    "    toplam += basamak ** basamak_sayısı\n",
    "    gecici_sayı //= 10\n",
    "if (toplam == sayı):\n",
    "    print(sayı,\"bir armstrong sayısıdır.\")\n",
    "else:\n",
    "    print(sayı,\"bir armstrong sayısı değildir.\")"
   ]
  },
  {
   "cell_type": "markdown",
   "id": "fe801756",
   "metadata": {},
   "source": [
    "PROBLEM 3"
   ]
  },
  {
   "cell_type": "code",
   "execution_count": 20,
   "id": "c03c38c5",
   "metadata": {},
   "outputs": [
    {
     "ename": "SyntaxError",
     "evalue": "invalid syntax (2217158019.py, line 6)",
     "output_type": "error",
     "traceback": [
      "\u001b[1;36m  Input \u001b[1;32mIn [20]\u001b[1;36m\u001b[0m\n\u001b[1;33m    *************************************************\u001b[0m\n\u001b[1;37m    ^\u001b[0m\n\u001b[1;31mSyntaxError\u001b[0m\u001b[1;31m:\u001b[0m invalid syntax\n"
     ]
    }
   ],
   "source": [
    "\n",
    "for i in range(1,11):\n",
    "    print(\"*************************************************\")\n",
    "    for j in range(1,11):\n",
    "        \n",
    "        print(\"{} x {} = {}\".format(i,j,i*j))\n",
    "*************************************************\n",
    "1 x 1 = 1\n",
    "1 x 2 = 2\n",
    "1 x 3 = 3\n",
    "1 x 4 = 4\n",
    "1 x 5 = 5\n",
    "1 x 6 = 6\n",
    "1 x 7 = 7\n",
    "1 x 8 = 8\n",
    "1 x 9 = 9\n",
    "1 x 10 = 10\n",
    "*************************************************\n",
    "2 x 1 = 2\n",
    "2 x 2 = 4\n",
    "2 x 3 = 6\n",
    "2 x 4 = 8\n",
    "2 x 5 = 10\n",
    "2 x 6 = 12\n",
    "2 x 7 = 14\n",
    "2 x 8 = 16\n",
    "2 x 9 = 18\n",
    "2 x 10 = 20\n",
    "*************************************************\n",
    "3 x 1 = 3\n",
    "3 x 2 = 6\n",
    "3 x 3 = 9\n",
    "3 x 4 = 12\n",
    "3 x 5 = 15\n",
    "3 x 6 = 18\n",
    "3 x 7 = 21\n",
    "3 x 8 = 24\n",
    "3 x 9 = 27\n",
    "3 x 10 = 30\n",
    "*************************************************\n",
    "4 x 1 = 4\n",
    "4 x 2 = 8\n",
    "4 x 3 = 12\n",
    "4 x 4 = 16\n",
    "4 x 5 = 20\n",
    "4 x 6 = 24\n",
    "4 x 7 = 28\n",
    "4 x 8 = 32\n",
    "4 x 9 = 36\n",
    "4 x 10 = 40\n",
    "*************************************************\n",
    "5 x 1 = 5\n",
    "5 x 2 = 10\n",
    "5 x 3 = 15\n",
    "5 x 4 = 20\n",
    "5 x 5 = 25\n",
    "5 x 6 = 30\n",
    "5 x 7 = 35\n",
    "5 x 8 = 40\n",
    "5 x 9 = 45\n",
    "5 x 10 = 50\n",
    "*************************************************\n",
    "6 x 1 = 6\n",
    "6 x 2 = 12\n",
    "6 x 3 = 18\n",
    "6 x 4 = 24\n",
    "6 x 5 = 30\n",
    "6 x 6 = 36\n",
    "6 x 7 = 42\n",
    "6 x 8 = 48\n",
    "6 x 9 = 54\n",
    "6 x 10 = 60\n",
    "*************************************************\n",
    "7 x 1 = 7\n",
    "7 x 2 = 14\n",
    "7 x 3 = 21\n",
    "7 x 4 = 28\n",
    "7 x 5 = 35\n",
    "7 x 6 = 42\n",
    "7 x 7 = 49\n",
    "7 x 8 = 56\n",
    "7 x 9 = 63\n",
    "7 x 10 = 70\n",
    "*************************************************\n",
    "8 x 1 = 8\n",
    "8 x 2 = 16\n",
    "8 x 3 = 24\n",
    "8 x 4 = 32\n",
    "8 x 5 = 40\n",
    "8 x 6 = 48\n",
    "8 x 7 = 56\n",
    "8 x 8 = 64\n",
    "8 x 9 = 72\n",
    "8 x 10 = 80\n",
    "*************************************************\n",
    "9 x 1 = 9\n",
    "9 x 2 = 18\n",
    "9 x 3 = 27\n",
    "9 x 4 = 36\n",
    "9 x 5 = 45\n",
    "9 x 6 = 54\n",
    "9 x 7 = 63\n",
    "9 x 8 = 72\n",
    "9 x 9 = 81\n",
    "9 x 10 = 90\n",
    "*************************************************\n",
    "10 x 1 = 10\n",
    "10 x 2 = 20\n",
    "10 x 3 = 30\n",
    "10 x 4 = 40\n",
    "10 x 5 = 50\n",
    "10 x 6 = 60\n",
    "10 x 7 = 70\n",
    "10 x 8 = 80\n",
    "10 x 9 = 90\n",
    "10 x 10 = 100"
   ]
  },
  {
   "cell_type": "code",
   "execution_count": 6,
   "id": "fc1b89d5",
   "metadata": {},
   "outputs": [
    {
     "name": "stdout",
     "output_type": "stream",
     "text": [
      "Sayı:24\n",
      "Sayı:23\n",
      "Sayı:20\n",
      "Sayı:10\n",
      "Sayı:14\n",
      "Sayı:12\n",
      "Sayı:23\n",
      "Sayı:34\n",
      "Sayı:34\n",
      "Sayı:45\n",
      "Sayı:q\n",
      "Girdiğiniz Sayıların Toplamı: 239\n"
     ]
    }
   ],
   "source": [
    "toplam = 0\n",
    "\n",
    "while True:\n",
    "    \n",
    "    sayı = input(\"Sayı:\")\n",
    "    \n",
    "    if (sayı == \"q\"):\n",
    "        break\n",
    "    sayı = int(sayı)\n",
    "    \n",
    "    toplam += sayı\n",
    "    \n",
    "print(\"Girdiğiniz Sayıların Toplamı:\",toplam)"
   ]
  },
  {
   "cell_type": "code",
   "execution_count": 19,
   "id": "89bfe581",
   "metadata": {},
   "outputs": [
    {
     "name": "stdout",
     "output_type": "stream",
     "text": [
      "3 6 9 12 15 18 21 24 27 30 33 36 39 42 45 48 51 54 57 60 63 66 69 72 75 78 81 84 87 90 93 96 99 "
     ]
    }
   ],
   "source": [
    "for i in range(1,101):\n",
    "    \n",
    "    if (i % 3 != 0):\n",
    "        continue\n",
    "    print(i, end=\" \")"
   ]
  },
  {
   "cell_type": "code",
   "execution_count": 15,
   "id": "63248c7f",
   "metadata": {},
   "outputs": [
    {
     "ename": "IndentationError",
     "evalue": "expected an indented block after 'for' statement on line 3 (1874328828.py, line 4)",
     "output_type": "error",
     "traceback": [
      "\u001b[1;36m  Input \u001b[1;32mIn [15]\u001b[1;36m\u001b[0m\n\u001b[1;33m    print(i,j, end=\" \")\u001b[0m\n\u001b[1;37m                         ^\u001b[0m\n\u001b[1;31mIndentationError\u001b[0m\u001b[1;31m:\u001b[0m expected an indented block after 'for' statement on line 3\n"
     ]
    }
   ],
   "source": [
    "for i in range(1,11):\n",
    "    \n",
    "    for j in range(1,11):\n",
    "print(i,j, end=\" \")  \n",
    "        print(\"{} x {} = {}\".format(i,j,i*j))"
   ]
  },
  {
   "cell_type": "code",
   "execution_count": null,
   "id": "145380d3",
   "metadata": {},
   "outputs": [],
   "source": []
  }
 ],
 "metadata": {
  "kernelspec": {
   "display_name": "Python 3 (ipykernel)",
   "language": "python",
   "name": "python3"
  },
  "language_info": {
   "codemirror_mode": {
    "name": "ipython",
    "version": 3
   },
   "file_extension": ".py",
   "mimetype": "text/x-python",
   "name": "python",
   "nbconvert_exporter": "python",
   "pygments_lexer": "ipython3",
   "version": "3.10.1"
  }
 },
 "nbformat": 4,
 "nbformat_minor": 5
}
