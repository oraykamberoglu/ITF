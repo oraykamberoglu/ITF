{
  "cells": [
    {
      "cell_type": "code",
      "execution_count": null,
      "metadata": {
        "colab": {
          "base_uri": "https://localhost:8080/"
        },
        "id": "CqY0jRpUOYtL",
        "outputId": "be47f1e0-c0de-4439-a504-681a27f66ff3"
      },
      "outputs": [
        {
          "name": "stdout",
          "output_type": "stream",
          "text": [
            "['USA', 'Brasil', 'UK', 'Germany', 'Turkey', 'New Zealand']\n",
            "6\n"
          ]
        }
      ],
      "source": [
        "country = ['USA', 'Brasil', 'UK', 'Germany', 'Turkey', 'New Zealand']\n",
        "print(country)\n",
        "# print(len(country))"
      ]
    },
    {
      "cell_type": "code",
      "execution_count": 2,
      "metadata": {
        "colab": {
          "base_uri": "https://localhost:8080/"
        },
        "id": "6U5Y4Ot2Odud",
        "outputId": "8754749f-a687-4f8b-8cf0-6784a4bd142a"
      },
      "outputs": [
        {
          "name": "stdout",
          "output_type": "stream",
          "text": [
            "['I', ' ', 'l', 'o', 'v', 'e', ' ', 't', 'h', 'i', 's', ' ', 'g', 'a', 'm', 'e']\n",
            "['I love this game']\n"
          ]
        }
      ],
      "source": [
        "string_1 = 'I love this game'\n",
        "\n",
        "new_list_1 = list(string_1)  # we created multi element list\n",
        "print(new_list_1)\n",
        "# print(len(new_list_1))\n",
        "new_list_2 = [string_1]  # this is a single element list\n",
        "print(new_list_2)\n",
        "# print(len(new_list_2))"
      ]
    },
    {
      "cell_type": "code",
      "execution_count": null,
      "metadata": {
        "colab": {
          "base_uri": "https://localhost:8080/"
        },
        "id": "Ch4sucFhOd7c",
        "outputId": "cc4535c1-491e-47d2-cce2-ba2b0c82d0f3"
      },
      "outputs": [
        {
          "name": "stdout",
          "output_type": "stream",
          "text": [
            "[11, 'Joseph', False, 3.14, None, [1, 2, 3]]\n"
          ]
        }
      ],
      "source": [
        "mixed_list = [11, 'Joseph', False, 3.14, None, [1, 2, 3]]\n",
        "print(mixed_list)"
      ]
    },
    {
      "cell_type": "code",
      "execution_count": null,
      "metadata": {
        "colab": {
          "base_uri": "https://localhost:8080/"
        },
        "id": "19MXiuX5OeA9",
        "outputId": "43749ea5-a709-45b0-a33c-753c8a7bfa9f"
      },
      "outputs": [
        {
          "name": "stdout",
          "output_type": "stream",
          "text": [
            "['Y', 'o', 'u', ' ', 'm', 'u', 's', 't', ' ', 'q', 'u', 'i', 't', ' ', 's', 'm', 'o', 'k', 'i', 'n', 'g', '!']\n",
            "22\n"
          ]
        }
      ],
      "source": [
        "warning = 'You must quit smoking!'\n",
        "print(list(warning))\n",
        "print(len(list(warning)))"
      ]
    },
    {
      "cell_type": "code",
      "execution_count": null,
      "metadata": {
        "id": "4tLqPfpPOeEv"
      },
      "outputs": [],
      "source": [
        "empty_list_1= []\n",
        "\n",
        "empty_list_2 = list()"
      ]
    },
    {
      "cell_type": "code",
      "execution_count": null,
      "metadata": {
        "colab": {
          "base_uri": "https://localhost:8080/"
        },
        "id": "MSWnOsBlOeHd",
        "outputId": "77e71abf-cd83-4678-b612-7f3dfff64045"
      },
      "outputs": [
        {
          "name": "stdout",
          "output_type": "stream",
          "text": [
            "['114', 'plastic-free sea']\n"
          ]
        }
      ],
      "source": [
        "empty_list_1 = []\n",
        "empty_list_1.append('114')\n",
        "empty_list_1.append('plastic-free sea') # Sonuna ekledi\n",
        "\n",
        "print(empty_list_1)"
      ]
    },
    {
      "cell_type": "code",
      "execution_count": null,
      "metadata": {
        "colab": {
          "base_uri": "https://localhost:8080/"
        },
        "id": "LAl66DaQOeJe",
        "outputId": "eb7095a9-c611-4344-8fcb-8496f0d31428"
      },
      "outputs": [
        {
          "name": "stdout",
          "output_type": "stream",
          "text": [
            "['New York', 'London', 'Istanbul', 'Seoul', 'Sydney', 'Addis Ababa']\n"
          ]
        }
      ],
      "source": [
        "city = ['New York', 'London', 'Istanbul', 'Seoul', 'Sydney']\n",
        "city.append('Addis Ababa')\n",
        "\n",
        "print(city)"
      ]
    },
    {
      "cell_type": "code",
      "execution_count": null,
      "metadata": {
        "colab": {
          "base_uri": "https://localhost:8080/"
        },
        "id": "EsQoeUlKOeLt",
        "outputId": "a8be43b7-b66f-48d1-cfcc-9ce128c296ea"
      },
      "outputs": [
        {
          "name": "stdout",
          "output_type": "stream",
          "text": [
            "['New York', 'London', 'Stockholm', 'Istanbul', 'Seoul', 'Sydney', 'Addis Ababa']\n"
          ]
        }
      ],
      "source": [
        "city = ['New York', 'London', 'Istanbul', 'Seoul', 'Sydney', 'Addis Ababa']\n",
        "city.insert(2, 'Stockholm')\n",
        "\n",
        "print(city)"
      ]
    },
    {
      "cell_type": "code",
      "execution_count": null,
      "metadata": {
        "colab": {
          "base_uri": "https://localhost:8080/"
        },
        "id": "WAxP-zU2OeOF",
        "outputId": "703833a2-8c2e-4aa5-94d2-8c1f4ddc2fe6"
      },
      "outputs": [
        {
          "name": "stdout",
          "output_type": "stream",
          "text": [
            "['New York', 'Stockholm', 'Istanbul', 'Seoul', 'Sydney', 'Addis Ababa']\n"
          ]
        }
      ],
      "source": [
        "city = ['New York', 'London', 'Stockholm', 'Istanbul', 'Seoul', 'Sydney', 'Addis Ababa']\n",
        "city.remove('London')\n",
        "print(city)  # we have deleted 'London'"
      ]
    },
    {
      "cell_type": "code",
      "execution_count": null,
      "metadata": {
        "colab": {
          "base_uri": "https://localhost:8080/"
        },
        "id": "gHIDOl_UOeQH",
        "outputId": "4e97cd21-610d-47e8-ca59-aa0ba8bdfbb2"
      },
      "outputs": [
        {
          "name": "stdout",
          "output_type": "stream",
          "text": [
            "['Addis Ababa', 'Istanbul', 'New York', 'Seoul', 'Stockholm', 'Sydney']\n"
          ]
        }
      ],
      "source": [
        "city = ['New York', 'Stockholm', 'Istanbul', 'Seoul', 'Sydney', 'Addis Ababa']\n",
        "city.sort()  # lists the items in alphabetical order\n",
        "print(city) "
      ]
    },
    {
      "cell_type": "code",
      "execution_count": null,
      "metadata": {
        "colab": {
          "base_uri": "https://localhost:8080/"
        },
        "id": "nUxwvOoyOeSF",
        "outputId": "4a03f37a-dcb8-4c86-b707-f33aea77e160"
      },
      "outputs": [
        {
          "name": "stdout",
          "output_type": "stream",
          "text": [
            "6\n"
          ]
        }
      ],
      "source": [
        "city = ['Addis Ababa', 'Istanbul', 'New York', 'Seoul', 'Stockholm', 'Sydney']\n",
        "print(len(city))"
      ]
    },
    {
      "cell_type": "code",
      "execution_count": null,
      "metadata": {
        "colab": {
          "base_uri": "https://localhost:8080/"
        },
        "id": "WP2Uvr26OeT-",
        "outputId": "12ea72d0-834f-4114-e1c0-b00127248bbe"
      },
      "outputs": [
        {
          "name": "stdout",
          "output_type": "stream",
          "text": [
            "[1, 3, 5, 7, 1, 3, 5, 7, 1, 3, 5, 7]\n"
          ]
        }
      ],
      "source": [
        "my_list = [1, 3, 5, 7]\n",
        "print(my_list * 3)"
      ]
    },
    {
      "cell_type": "code",
      "execution_count": null,
      "metadata": {
        "colab": {
          "base_uri": "https://localhost:8080/"
        },
        "id": "Dh9TiVwSOeWK",
        "outputId": "9bd8843d-b055-4b64-98d1-87b86bf8fdb0"
      },
      "outputs": [
        {
          "name": "stdout",
          "output_type": "stream",
          "text": [
            "['New York', 'Melbourne', 'Istanbul', 'Seoul', 'Sydney', 'Addis Ababa']\n"
          ]
        }
      ],
      "source": [
        "city = ['New York', 'Stockholm', 'Istanbul', 'Seoul', 'Sydney', 'Addis Ababa']\n",
        "city[1] = 'Melbourne'  # we assign 'Melbourne' to index 1\n",
        "print(city)"
      ]
    },
    {
      "cell_type": "code",
      "execution_count": null,
      "metadata": {
        "colab": {
          "base_uri": "https://localhost:8080/"
        },
        "id": "ntJwhnRoOeYJ",
        "outputId": "aece6b03-0d14-4fed-a204-3621f7cc4f8b"
      },
      "outputs": [
        {
          "name": "stdout",
          "output_type": "stream",
          "text": [
            "['red', 'purple', 'blue', 'yellow', 'green']\n",
            "blue\n"
          ]
        }
      ],
      "source": [
        "colors = ['red', 'purple', 'blue', 'yellow', 'green']\n",
        "print(colors)\n",
        "print(colors[2])  # If we start at zero, \n",
        "# the second element will be 'blue'."
      ]
    },
    {
      "cell_type": "code",
      "execution_count": null,
      "metadata": {
        "colab": {
          "base_uri": "https://localhost:8080/"
        },
        "id": "uQ60lCebOeZ1",
        "outputId": "83c4acd1-7a2c-4003-de81-35ba3b65aded"
      },
      "outputs": [
        {
          "name": "stdout",
          "output_type": "stream",
          "text": [
            "5\n",
            "[['New York', 'London', 'Istanbul', 'Seoul', 'Sydney']]\n",
            "1\n"
          ]
        }
      ],
      "source": [
        "city = ['New York', 'London', 'Istanbul', 'Seoul', 'Sydney']\n",
        "\n",
        "# print(len(city))\n",
        "\n",
        "city_list = []\n",
        "city_list.append(city) # we have created a nested list\n",
        "\n",
        "print(city_list)\n",
        "print(len(city_list))"
      ]
    },
    {
      "cell_type": "code",
      "execution_count": null,
      "metadata": {
        "colab": {
          "base_uri": "https://localhost:8080/"
        },
        "id": "UyJNfKIfOecN",
        "outputId": "fc7e1739-e705-4ea1-efd3-903ec3d2d325"
      },
      "outputs": [
        {
          "name": "stdout",
          "output_type": "stream",
          "text": [
            "['New York', 'London', 'Istanbul', 'Seoul', 'Sydney']\n"
          ]
        }
      ],
      "source": [
        "city_list = [['New York', 'London', 'Istanbul', 'Seoul', 'Sydney']]\n",
        "print(city_list[0]) # access to first and only element"
      ]
    },
    {
      "cell_type": "code",
      "execution_count": null,
      "metadata": {
        "colab": {
          "base_uri": "https://localhost:8080/"
        },
        "id": "xYy5QizrOeeM",
        "outputId": "f4708eb6-909d-4952-8a3c-437d6e1205ab"
      },
      "outputs": [
        {
          "name": "stdout",
          "output_type": "stream",
          "text": [
            "Istanbul\n"
          ]
        }
      ],
      "source": [
        "city_list = [['New York', 'London', 'Istanbul', 'Seoul', 'Sydney']]\n",
        "print(city_list[0][2])"
      ]
    },
    {
      "cell_type": "code",
      "execution_count": null,
      "metadata": {
        "colab": {
          "base_uri": "https://localhost:8080/"
        },
        "id": "vrjb8FbnSVCi",
        "outputId": "f01d628e-e54d-4223-873d-c0ef82656392"
      },
      "outputs": [
        {
          "name": "stdout",
          "output_type": "stream",
          "text": [
            "a\n"
          ]
        }
      ],
      "source": [
        "city_list = [['New York', 'London', 'Istanbul', 'Seoul', 'Sydney']]\n",
        "print(city_list[0][2][3])"
      ]
    },
    {
      "cell_type": "code",
      "execution_count": null,
      "metadata": {
        "colab": {
          "base_uri": "https://localhost:8080/"
        },
        "id": "7Okaw5uaSVLB",
        "outputId": "dcadd30c-e4fb-476f-b39b-51c6cc8690da"
      },
      "outputs": [
        {
          "name": "stdout",
          "output_type": "stream",
          "text": [
            "27\n"
          ]
        }
      ],
      "source": [
        "odd_numbers = [[11, 13, 15], 17, 19, 21, 23, 25, 27, 29]\n",
        "\n",
        "print(odd_numbers[6])"
      ]
    },
    {
      "cell_type": "code",
      "execution_count": null,
      "metadata": {
        "colab": {
          "base_uri": "https://localhost:8080/"
        },
        "id": "bZmDt-CpSVRp",
        "outputId": "30a1a540-ab73-46e4-9a97-f3006d800d7c"
      },
      "outputs": [
        {
          "name": "stdout",
          "output_type": "stream",
          "text": [
            "l\n"
          ]
        }
      ],
      "source": [
        "fruits = ['apple', 'banana', 'watermelon', 'orange', 'mango', 'avocado']\n",
        "\n",
        "fruit_list = []\n",
        "fruit_list.insert(0, fruits)\n",
        "print(fruit_list[0][2][7])"
      ]
    },
    {
      "cell_type": "code",
      "execution_count": null,
      "metadata": {
        "colab": {
          "base_uri": "https://localhost:8080/"
        },
        "id": "3m474NfQSVYa",
        "outputId": "8e395fcd-deac-41dd-9f16-05ff7e1309b5"
      },
      "outputs": [
        {
          "name": "stdout",
          "output_type": "stream",
          "text": [
            "l\n"
          ]
        }
      ],
      "source": [
        "fruits = ['apple', 'banana', 'watermelon', 'orange', 'mango', 'avocado']\n",
        "\n",
        "fruit_list = []\n",
        "fruit_list.insert(0, fruits)\n",
        "print(fruit_list[0][2][7])"
      ]
    },
    {
      "cell_type": "code",
      "execution_count": null,
      "metadata": {
        "colab": {
          "base_uri": "https://localhost:8080/"
        },
        "id": "HSRa3xCaSVep",
        "outputId": "22a5383d-3add-4ebd-a9b4-6b1f9d6f25ee"
      },
      "outputs": [
        {
          "name": "stdout",
          "output_type": "stream",
          "text": [
            "[5, 7, 9]\n"
          ]
        }
      ],
      "source": [
        "numbers = [1, 3, 5, 7, 9, 11, 13, 15, 17]\n",
        "print(numbers[2:5])  # we get the elements from index=2 to index=5(5 is not included)"
      ]
    },
    {
      "cell_type": "code",
      "execution_count": null,
      "metadata": {
        "colab": {
          "base_uri": "https://localhost:8080/"
        },
        "id": "C2SGRwatTOG5",
        "outputId": "b714ba8f-df13-42f6-d29d-1fff555429b4"
      },
      "outputs": [
        {
          "name": "stdout",
          "output_type": "stream",
          "text": [
            "[0, 1, 2, 3, 4, 5, 6, 7, 8, 9, 10]\n",
            "[0, 2, 4, 6, 8, 10]\n"
          ]
        }
      ],
      "source": [
        "count = list(range(11))\n",
        "print(count)\n",
        "\n",
        "print(count[0:11:2])"
      ]
    },
    {
      "cell_type": "code",
      "execution_count": null,
      "metadata": {
        "colab": {
          "base_uri": "https://localhost:8080/"
        },
        "id": "ULb6UorZTONY",
        "outputId": "1f76c201-fc1e-4239-e27a-2e3b4a9492f6"
      },
      "outputs": [
        {
          "name": "stdout",
          "output_type": "stream",
          "text": [
            "['elephant', 'bear', 'fox', 'wolf', 'rabbit', 'deer', 'giraffe']\n"
          ]
        }
      ],
      "source": [
        "animals = ['elephant', 'bear', 'fox', 'wolf', 'rabbit', 'deer', 'giraffe']\n",
        "\n",
        "print(animals[:])  # all elements of the list"
      ]
    },
    {
      "cell_type": "code",
      "execution_count": null,
      "metadata": {
        "colab": {
          "base_uri": "https://localhost:8080/"
        },
        "id": "6CbFZjSdTOQ6",
        "outputId": "7df2f6dc-b853-4cac-c0f0-acd721beb8d8"
      },
      "outputs": [
        {
          "name": "stdout",
          "output_type": "stream",
          "text": [
            "['wolf', 'rabbit', 'deer', 'giraffe']\n"
          ]
        }
      ],
      "source": [
        "animals = ['elephant', 'bear', 'fox', 'wolf', 'rabbit', 'deer', 'giraffe']\n",
        "print(animals[3:])"
      ]
    },
    {
      "cell_type": "code",
      "execution_count": null,
      "metadata": {
        "colab": {
          "base_uri": "https://localhost:8080/"
        },
        "id": "NlZ-lN3XTOUF",
        "outputId": "66cfeac7-59ac-462e-af3a-0cd1ed6b5569"
      },
      "outputs": [
        {
          "name": "stdout",
          "output_type": "stream",
          "text": [
            "['elephant', 'bear', 'fox', 'wolf', 'rabbit']\n"
          ]
        }
      ],
      "source": [
        "animals = ['elephant', 'bear', 'fox', 'wolf', 'rabbit', 'deer', 'giraffe']\n",
        "print(animals[:5])"
      ]
    },
    {
      "cell_type": "code",
      "execution_count": null,
      "metadata": {
        "colab": {
          "base_uri": "https://localhost:8080/"
        },
        "id": "_DwMORdtyvwN",
        "outputId": "17b790c0-3647-4851-9269-d725abbf4872"
      },
      "outputs": [
        {
          "name": "stdout",
          "output_type": "stream",
          "text": [
            "['elephant', 'fox', 'rabbit', 'giraffe']\n"
          ]
        }
      ],
      "source": [
        "animals = ['elephant', 'bear', 'fox', 'wolf', 'rabbit', 'deer', 'giraffe']\n",
        "print(animals[::2])"
      ]
    },
    {
      "cell_type": "code",
      "execution_count": null,
      "metadata": {
        "colab": {
          "base_uri": "https://localhost:8080/"
        },
        "id": "jVK1E4Bryv1q",
        "outputId": "4e664820-6713-46f1-b86e-2e5c54dbd192"
      },
      "outputs": [
        {
          "name": "stdout",
          "output_type": "stream",
          "text": [
            "[10, 12, 14, 16, 18]\n"
          ]
        }
      ],
      "source": [
        "even_numbers = [2, 4, 6, 8, 10, 12, 14, 16, 18, 20]\n",
        "\n",
        "print(even_numbers[4:9])"
      ]
    },
    {
      "cell_type": "code",
      "execution_count": null,
      "metadata": {
        "colab": {
          "base_uri": "https://localhost:8080/"
        },
        "id": "V24jr3a8yv4Z",
        "outputId": "ae547a62-a433-4995-e1c8-2e5ad1f1695e"
      },
      "outputs": [
        {
          "name": "stdout",
          "output_type": "stream",
          "text": [
            "1\n"
          ]
        }
      ],
      "source": [
        "print(len([[12, 34, 56]]))\n",
        "# print(len([12, 34, 56]))"
      ]
    },
    {
      "cell_type": "code",
      "execution_count": null,
      "metadata": {
        "colab": {
          "base_uri": "https://localhost:8080/"
        },
        "id": "2qsJ1exdyv7Z",
        "outputId": "f8e2907f-a285-4309-a2bb-07d2112e0d4d"
      },
      "outputs": [
        {
          "name": "stdout",
          "output_type": "stream",
          "text": [
            "3\n"
          ]
        },
        {
          "data": {
            "text/plain": [
              "[12, 34, 56]"
            ]
          },
          "execution_count": 27,
          "metadata": {},
          "output_type": "execute_result"
        }
      ],
      "source": [
        "print(len([[12, 34, 56]][0]))\n",
        "[[12, 34, 56]][0]\n",
        "# numberslist = [[12, 34, 56]]\n",
        "# print(len(numberslist[0]))"
      ]
    },
    {
      "cell_type": "code",
      "execution_count": null,
      "metadata": {
        "colab": {
          "base_uri": "https://localhost:8080/"
        },
        "id": "V9Vq5LS9yv9n",
        "outputId": "6cc5f0d2-6065-41d9-df2b-0d14cc0c790a"
      },
      "outputs": [
        {
          "name": "stdout",
          "output_type": "stream",
          "text": [
            "London\n"
          ]
        }
      ],
      "source": [
        "city = ['New York', 'London', 'Istanbul', 'Seoul', 'Sydney']\n",
        "print(city[-4])"
      ]
    },
    {
      "cell_type": "code",
      "execution_count": null,
      "metadata": {
        "colab": {
          "base_uri": "https://localhost:8080/"
        },
        "id": "dN2ljA8PzbC9",
        "outputId": "087697d6-e37b-49fa-c672-7952109b01e2"
      },
      "outputs": [
        {
          "name": "stdout",
          "output_type": "stream",
          "text": [
            "['lobster', 'squid', 'octopus']\n"
          ]
        }
      ],
      "source": [
        "reef = ['swordfish', 'shark', 'whale', 'jellyfish', 'lobster', 'squid', 'octopus']\n",
        "print(reef[-3:])"
      ]
    },
    {
      "cell_type": "code",
      "execution_count": null,
      "metadata": {
        "colab": {
          "base_uri": "https://localhost:8080/"
        },
        "id": "ZaZSDslFzbGN",
        "outputId": "fe784751-bb5f-4245-86fe-d3b66d504b50"
      },
      "outputs": [
        {
          "name": "stdout",
          "output_type": "stream",
          "text": [
            "['swordfish', 'shark', 'whale', 'jellyfish']\n"
          ]
        }
      ],
      "source": [
        "reef = ['swordfish', 'shark', 'whale', 'jellyfish', 'lobster', 'squid', 'octopus']\n",
        "print(reef[:-3])"
      ]
    },
    {
      "cell_type": "code",
      "execution_count": null,
      "metadata": {
        "colab": {
          "base_uri": "https://localhost:8080/"
        },
        "id": "HxDs2iuFzbI6",
        "outputId": "a13f5140-0b63-40d9-ab5b-8e02743e8896"
      },
      "outputs": [
        {
          "name": "stdout",
          "output_type": "stream",
          "text": [
            "['octopus', 'squid', 'lobster', 'jellyfish', 'whale', 'shark', 'swordfish']\n"
          ]
        }
      ],
      "source": [
        "reef = ['swordfish', 'shark', 'whale', 'jellyfish', 'lobster', 'squid', 'octopus']\n",
        "print(reef[::-1])  # we have produced the reverse of the list"
      ]
    },
    {
      "cell_type": "code",
      "execution_count": null,
      "metadata": {
        "colab": {
          "base_uri": "https://localhost:8080/"
        },
        "id": "WSTlPiTg41zi",
        "outputId": "46fd086c-a21e-47f7-b8ab-2420e27b5500"
      },
      "outputs": [
        {
          "name": "stdout",
          "output_type": "stream",
          "text": [
            "['octopus', 'lobster', 'whale', 'swordfish']\n"
          ]
        }
      ],
      "source": [
        "reef = ['swordfish', 'shark', 'whale', 'jellyfish', 'lobster', 'squid', 'octopus']\n",
        "print(reef[::-2])"
      ]
    },
    {
      "cell_type": "code",
      "execution_count": null,
      "metadata": {
        "colab": {
          "base_uri": "https://localhost:8080/"
        },
        "id": "1Luqj0xQ413f",
        "outputId": "096182c8-dd6c-4695-cf05-1073a1391e3c"
      },
      "outputs": [
        {
          "name": "stdout",
          "output_type": "stream",
          "text": [
            "[8, 7, 6, 5]\n",
            "[]\n"
          ]
        }
      ],
      "source": [
        "odd_no = [1, 2, 3, 4, 5, 6, 7, 8, 9, 10]\n",
        "\n",
        "print(odd_no[7:3:-1])\n",
        "print(odd_no[2:6:-1])"
      ]
    },
    {
      "cell_type": "code",
      "execution_count": null,
      "metadata": {
        "id": "Ur5LP8Ua417K"
      },
      "outputs": [],
      "source": [
        "# append() takes exactly one argument"
      ]
    },
    {
      "cell_type": "code",
      "execution_count": null,
      "metadata": {
        "id": "T6kQUYI5LjN2"
      },
      "outputs": [],
      "source": [
        "# Tuple, listeye çok benzeyen birden çok veriyi tutabilen başka bir koleksiyon\n",
        "# türüdür. Not: En çok kullanılan collection türü liste.\n",
        "# Listeden en önemli farkı, tuple'ın değişmez olmasıdır. Bu nedenle, bu tür\n",
        "# işlemlerde append() veya remove() gibi metotlar yoktur.\n",
        "# Tuple'lar, IP adresi ve bağlantı noktası gibi değişmesi gerekmeyen küçük\n",
        "# değer koleksiyonları için yaygın olarak kullanılır. Değişmez/değişmeyecek\n",
        "# verimiz varsa, listelerden çok daha hızlı olduğu için tuple'ları seçmeliyiz.\n",
        "# Listeleri tanımlamak için 👉🏻'[]' köşeli parantezleri kullandık. Tuple'da\n",
        "# normal parantezler 👉🏻'()' kullanılır. Listeler için geçerli olan indeksleme\n",
        "#  kurallarının aynıları, Tuple'lar için de geçerlidir.\n",
        "list_1 = [True, ‘Space’, 20]\n",
        "tup_1 = (True, ‘Space’ , 20)"
      ]
    },
    {
      "cell_type": "code",
      "execution_count": null,
      "metadata": {
        "id": "468psUcvLjT1"
      },
      "outputs": [],
      "source": [
        "# Bir Tuple, virgülle ayrılmış değerleri parantez içine alarak da\n",
        "# oluşturulabilir. Tuple'ı bir vakayla karşılaştırabilirsiniz. Değiştirmemesini\n",
        "# istediğiniz verileri koyup kapağı kapattığınızda artık bu verileri\n",
        "# değiştiremez, boyutunu değiştiremez ve düzenleyemezsiniz."
      ]
    },
    {
      "cell_type": "code",
      "execution_count": null,
      "metadata": {
        "id": "zeCv1_znLjYU"
      },
      "outputs": [],
      "source": [
        "empty_tuple = ()"
      ]
    },
    {
      "cell_type": "code",
      "execution_count": null,
      "metadata": {
        "colab": {
          "base_uri": "https://localhost:8080/"
        },
        "id": "iFgkny4uLjbw",
        "outputId": "a987aee8-d7d9-4132-a54b-fd578f44b994"
      },
      "outputs": [
        {
          "name": "stdout",
          "output_type": "stream",
          "text": [
            "<class 'tuple'>\n"
          ]
        }
      ],
      "source": [
        "empty_tuple = ()\n",
        "print(type(empty_tuple))"
      ]
    },
    {
      "cell_type": "code",
      "execution_count": null,
      "metadata": {
        "colab": {
          "base_uri": "https://localhost:8080/"
        },
        "id": "wJDgt9W7Ljey",
        "outputId": "f1f9fd57-a4de-45c3-d1d2-f66a7c9e5671"
      },
      "outputs": [
        {
          "name": "stdout",
          "output_type": "stream",
          "text": [
            "love\n",
            "<class 'str'>\n"
          ]
        }
      ],
      "source": [
        "try_tuple = ('love')\n",
        "\n",
        "print(try_tuple)\n",
        "\n",
        "print(type(try_tuple)) # it's not tuple type."
      ]
    },
    {
      "cell_type": "code",
      "execution_count": null,
      "metadata": {
        "colab": {
          "base_uri": "https://localhost:8080/"
        },
        "id": "WEfFPVdkLjhe",
        "outputId": "ac63b709-92a3-4d2a-b224-51f3db10fe22"
      },
      "outputs": [
        {
          "name": "stdout",
          "output_type": "stream",
          "text": [
            "('love',)\n",
            "<class 'tuple'>\n"
          ]
        }
      ],
      "source": [
        "try_tuple = ('love',)\n",
        "\n",
        "print(try_tuple)\n",
        "\n",
        "print(type(try_tuple)) # it's a tuple type."
      ]
    },
    {
      "cell_type": "code",
      "execution_count": null,
      "metadata": {
        "colab": {
          "base_uri": "https://localhost:8080/"
        },
        "id": "ARfLxohBLjj-",
        "outputId": "b7709877-0f6a-4529-dd01-de91da9feadc"
      },
      "outputs": [
        {
          "name": "stdout",
          "output_type": "stream",
          "text": [
            "('mercury', 'jupiter', 'saturn')\n",
            "<class 'tuple'>\n",
            "3\n"
          ]
        }
      ],
      "source": [
        "planets = 'mercury', 'jupiter', 'saturn'\n",
        "\n",
        "print(planets)\n",
        "print(type(planets))\n",
        "print(len(planets))"
      ]
    },
    {
      "cell_type": "code",
      "execution_count": null,
      "metadata": {
        "colab": {
          "base_uri": "https://localhost:8080/"
        },
        "id": "5KModfcnPvfh",
        "outputId": "2526b68e-fa8e-41ec-f554-ce05dc46688e"
      },
      "outputs": [
        {
          "name": "stdout",
          "output_type": "stream",
          "text": [
            "()\n",
            "<class 'tuple'>\n"
          ]
        }
      ],
      "source": [
        "empty_tuple_1 = tuple()\n",
        "\n",
        "print(empty_tuple_1)\n",
        "print(type(empty_tuple_1))"
      ]
    },
    {
      "cell_type": "code",
      "execution_count": null,
      "metadata": {
        "colab": {
          "base_uri": "https://localhost:8080/"
        },
        "id": "f5I5tm-XPviu",
        "outputId": "f5c249c2-6c9b-4d1a-852c-c4bcbb107810"
      },
      "outputs": [
        {
          "name": "stdout",
          "output_type": "stream",
          "text": [
            "<class 'list'> [1, 4, 3, 4, 5, 6, 7, 4]\n"
          ]
        }
      ],
      "source": [
        "my_tuple=(1, 4, 3, 4, 5, 6, 7, 4)\n",
        "\n",
        "my_list = list(my_tuple)\n",
        "\n",
        "print(type(my_list), my_list)"
      ]
    },
    {
      "cell_type": "code",
      "execution_count": null,
      "metadata": {
        "colab": {
          "base_uri": "https://localhost:8080/"
        },
        "id": "Tqr4B4wmPvlz",
        "outputId": "def7ea03-596e-4fbb-b9f3-0beeeaaf95c8"
      },
      "outputs": [
        {
          "name": "stdout",
          "output_type": "stream",
          "text": [
            "<class 'tuple'> (1, 4, 3, 4, 5, 6, 7, 4)\n"
          ]
        }
      ],
      "source": [
        "my_list = [1, 4, 3, 4, 5, 6, 7, 4]\n",
        "\n",
        "my_tuple = tuple(my_list)\n",
        "\n",
        "print(type(my_tuple), my_tuple)"
      ]
    },
    {
      "cell_type": "code",
      "execution_count": null,
      "metadata": {
        "colab": {
          "base_uri": "https://localhost:8080/"
        },
        "id": "DH51j4EAPvor",
        "outputId": "b02722b0-0eee-4fe0-81a1-a35a53d95fd5"
      },
      "outputs": [
        {
          "name": "stdout",
          "output_type": "stream",
          "text": [
            "('A', 'l', 'p', 's')\n",
            "<class 'tuple'>\n"
          ]
        }
      ],
      "source": [
        "mountain = tuple('Alps')\n",
        "print(mountain) \n",
        "print(type(mountain))"
      ]
    },
    {
      "cell_type": "code",
      "execution_count": null,
      "metadata": {
        "colab": {
          "base_uri": "https://localhost:8080/"
        },
        "id": "Bg4HQK1BPvrR",
        "outputId": "65d7e000-a5a2-4b4e-b82c-11ced224eaae"
      },
      "outputs": [
        {
          "name": "stdout",
          "output_type": "stream",
          "text": [
            "4\n"
          ]
        }
      ],
      "source": [
        "mix_value_tuple = (0, 'bird', 3.14, True)\n",
        "\n",
        "print(len(mix_value_tuple))"
      ]
    },
    {
      "cell_type": "code",
      "execution_count": null,
      "metadata": {
        "colab": {
          "base_uri": "https://localhost:8080/",
          "height": 248
        },
        "id": "MSjyAL5DPvtX",
        "outputId": "c6c4eade-845a-4f08-e4d5-f15e546965e6"
      },
      "outputs": [
        {
          "name": "stdout",
          "output_type": "stream",
          "text": [
            "0\n",
            "2\n",
            "4\n"
          ]
        },
        {
          "ename": "IndexError",
          "evalue": "ignored",
          "output_type": "error",
          "traceback": [
            "\u001b[0;31m---------------------------------------------------------------------------\u001b[0m",
            "\u001b[0;31mIndexError\u001b[0m                                Traceback (most recent call last)",
            "\u001b[0;32m<ipython-input-34-8a077883e37a>\u001b[0m in \u001b[0;36m<module>\u001b[0;34m()\u001b[0m\n\u001b[1;32m      3\u001b[0m \u001b[0mprint\u001b[0m\u001b[0;34m(\u001b[0m\u001b[0meven_no\u001b[0m\u001b[0;34m[\u001b[0m\u001b[0;36m1\u001b[0m\u001b[0;34m]\u001b[0m\u001b[0;34m)\u001b[0m\u001b[0;34m\u001b[0m\u001b[0;34m\u001b[0m\u001b[0m\n\u001b[1;32m      4\u001b[0m \u001b[0mprint\u001b[0m\u001b[0;34m(\u001b[0m\u001b[0meven_no\u001b[0m\u001b[0;34m[\u001b[0m\u001b[0;36m2\u001b[0m\u001b[0;34m]\u001b[0m\u001b[0;34m)\u001b[0m\u001b[0;34m\u001b[0m\u001b[0;34m\u001b[0m\u001b[0m\n\u001b[0;32m----> 5\u001b[0;31m \u001b[0mprint\u001b[0m\u001b[0;34m(\u001b[0m\u001b[0meven_no\u001b[0m\u001b[0;34m[\u001b[0m\u001b[0;36m3\u001b[0m\u001b[0;34m]\u001b[0m\u001b[0;34m)\u001b[0m\u001b[0;34m\u001b[0m\u001b[0;34m\u001b[0m\u001b[0m\n\u001b[0m",
            "\u001b[0;31mIndexError\u001b[0m: tuple index out of range"
          ]
        }
      ],
      "source": [
        "even_no = (0, 2, 4)\n",
        "print(even_no[0])    \n",
        "print(even_no[1])    \n",
        "print(even_no[2])   \n",
        "print(even_no[3])\n",
        "\n",
        "#  Listeler gibi tuple'lar da indekslemeyi destekler"
      ]
    },
    {
      "cell_type": "code",
      "execution_count": null,
      "metadata": {
        "colab": {
          "base_uri": "https://localhost:8080/"
        },
        "id": "CYpdezwyPvvu",
        "outputId": "f2f23c84-ff0c-43ab-d944-2bc58d894fe4"
      },
      "outputs": [
        {
          "name": "stdout",
          "output_type": "stream",
          "text": [
            "['Athens', 'Cairo', 'Moskow', 'Dublin']\n"
          ]
        }
      ],
      "source": [
        "city_list = ['Tokyo', 'Istanbul', 'Moskow', 'Dublin']\n",
        "\n",
        "city_list[0] = 'Athens'\n",
        "city_list[1] = 'Cairo'\n",
        "print(city_list)"
      ]
    },
    {
      "cell_type": "code",
      "execution_count": null,
      "metadata": {
        "id": "GluJmRFzR1bQ"
      },
      "outputs": [],
      "source": [
        "# Tuple'ların listelerden en önemli farklarından biri de 'tuple' nesnesinin öğe\n",
        "# atamasını desteklememesidir. Evet, çünkü tuple değişmez."
      ]
    },
    {
      "cell_type": "code",
      "execution_count": null,
      "metadata": {
        "colab": {
          "base_uri": "https://localhost:8080/",
          "height": 197
        },
        "id": "WJCDwUiWPvye",
        "outputId": "8f246bbc-87fc-4d25-eda9-7c754bb13a90"
      },
      "outputs": [
        {
          "ename": "TypeError",
          "evalue": "ignored",
          "output_type": "error",
          "traceback": [
            "\u001b[0;31m---------------------------------------------------------------------------\u001b[0m",
            "\u001b[0;31mTypeError\u001b[0m                                 Traceback (most recent call last)",
            "\u001b[0;32m<ipython-input-37-e703d7fff350>\u001b[0m in \u001b[0;36m<module>\u001b[0;34m()\u001b[0m\n\u001b[1;32m      3\u001b[0m \u001b[0mcity_tuple\u001b[0m \u001b[0;34m=\u001b[0m \u001b[0mtuple\u001b[0m\u001b[0;34m(\u001b[0m\u001b[0mcity_list\u001b[0m\u001b[0;34m)\u001b[0m\u001b[0;34m\u001b[0m\u001b[0;34m\u001b[0m\u001b[0m\n\u001b[1;32m      4\u001b[0m \u001b[0;34m\u001b[0m\u001b[0m\n\u001b[0;32m----> 5\u001b[0;31m \u001b[0mcity_tuple\u001b[0m\u001b[0;34m[\u001b[0m\u001b[0;36m0\u001b[0m\u001b[0;34m]\u001b[0m \u001b[0;34m=\u001b[0m \u001b[0;34m'New York'\u001b[0m  \u001b[0;31m# you can't assign a value\u001b[0m\u001b[0;34m\u001b[0m\u001b[0;34m\u001b[0m\u001b[0m\n\u001b[0m",
            "\u001b[0;31mTypeError\u001b[0m: 'tuple' object does not support item assignment"
          ]
        }
      ],
      "source": [
        "city_list = ['Tokyo', 'Istanbul', 'Moskow', 'Dublin']\n",
        "\n",
        "city_tuple = tuple(city_list)\n",
        "\n",
        "city_tuple[0] = 'New York'  # you can't assign a value"
      ]
    },
    {
      "cell_type": "code",
      "execution_count": null,
      "metadata": {
        "colab": {
          "base_uri": "https://localhost:8080/",
          "height": 214
        },
        "id": "itAAGwElPv0m",
        "outputId": "b87fa939-91af-43d6-f7d8-1a473b5214a1"
      },
      "outputs": [
        {
          "ename": "AttributeError",
          "evalue": "ignored",
          "output_type": "error",
          "traceback": [
            "\u001b[0;31m---------------------------------------------------------------------------\u001b[0m",
            "\u001b[0;31mAttributeError\u001b[0m                            Traceback (most recent call last)",
            "\u001b[0;32m<ipython-input-38-0ca9ec98ccea>\u001b[0m in \u001b[0;36m<module>\u001b[0;34m()\u001b[0m\n\u001b[1;32m      1\u001b[0m \u001b[0mmix_value\u001b[0m \u001b[0;34m=\u001b[0m \u001b[0;34m(\u001b[0m\u001b[0;36m10\u001b[0m\u001b[0;34m,\u001b[0m \u001b[0;32mFalse\u001b[0m\u001b[0;34m,\u001b[0m \u001b[0;34m'fruit'\u001b[0m\u001b[0;34m,\u001b[0m \u001b[0;36m1.618\u001b[0m\u001b[0;34m)\u001b[0m\u001b[0;34m\u001b[0m\u001b[0;34m\u001b[0m\u001b[0m\n\u001b[0;32m----> 2\u001b[0;31m \u001b[0mmix_value\u001b[0m\u001b[0;34m.\u001b[0m\u001b[0mappend\u001b[0m\u001b[0;34m(\u001b[0m\u001b[0;34m[\u001b[0m\u001b[0;34m'vegetable'\u001b[0m\u001b[0;34m,\u001b[0m \u001b[0;36m2\u001b[0m\u001b[0;34m+\u001b[0m\u001b[0;36m3j\u001b[0m\u001b[0;34m]\u001b[0m\u001b[0;34m)\u001b[0m\u001b[0;34m\u001b[0m\u001b[0;34m\u001b[0m\u001b[0m\n\u001b[0m\u001b[1;32m      3\u001b[0m \u001b[0;34m\u001b[0m\u001b[0m\n\u001b[1;32m      4\u001b[0m \u001b[0mprint\u001b[0m\u001b[0;34m(\u001b[0m\u001b[0mlen\u001b[0m\u001b[0;34m(\u001b[0m\u001b[0mmix_value\u001b[0m\u001b[0;34m)\u001b[0m\u001b[0;34m)\u001b[0m\u001b[0;34m\u001b[0m\u001b[0;34m\u001b[0m\u001b[0m\n",
            "\u001b[0;31mAttributeError\u001b[0m: 'tuple' object has no attribute 'append'"
          ]
        }
      ],
      "source": [
        "mix_value = (10, False, 'fruit', 1.618)\n",
        "mix_value.append(['vegetable', 2+3j])\n",
        "\n",
        "print(len(mix_value))"
      ]
    },
    {
      "cell_type": "code",
      "execution_count": null,
      "metadata": {
        "id": "9A0K6I4tTSXf"
      },
      "outputs": [],
      "source": [
        "# Benefits of Immutability\n",
        "# Tuple'lar, listelerden daha hızlı ve daha güçlü bellek içidir. Büyük miktarda\n",
        "# veriyle uğraşmanız gerektiğinde bunu bir düşünmelisiniz. Verilerinizi\n",
        "# değiştirmek istemiyorsanız, tuple'ları seçmeniz gerekebilir.\n",
        "\n",
        "# Değişmezliği nedeniyle, bir tuple içinde saklanan veriler yanlışlıkla\n",
        "# değiştirilemez.\n",
        "\n",
        "# Tuple dictionary key olarak kullanılabilirken, 'TypeError' anahtar olarak\n",
        "# listelere neden olabilir. Ve bu, veri işlemede tuple'ların kullanışlılığıdır."
      ]
    },
    {
      "cell_type": "code",
      "execution_count": null,
      "metadata": {
        "colab": {
          "base_uri": "https://localhost:8080/"
        },
        "id": "BN5tbF-UTSdG",
        "outputId": "b7f9944e-f9ae-4119-9a20-c40b2a948069"
      },
      "outputs": [
        {
          "name": "stdout",
          "output_type": "stream",
          "text": [
            "[10, 9, 8, 7, 6, 5, 4, 3, 2, 1]\n"
          ]
        }
      ],
      "source": [
        "sayi_listesi =  list(range(11))\n",
        "sayi_listesi.remove(0)\n",
        "sayi_listesi.sort(reverse = True)\n",
        "print(sayi_listesi)"
      ]
    },
    {
      "cell_type": "code",
      "execution_count": null,
      "metadata": {
        "colab": {
          "base_uri": "https://localhost:8080/"
        },
        "id": "KTbiHLDlTSf1",
        "outputId": "5763bcc2-7a39-4ff2-9805-d3c69106e247"
      },
      "outputs": [
        {
          "name": "stdout",
          "output_type": "stream",
          "text": [
            "['eggplant', 'spinach', 'leek']\n"
          ]
        }
      ],
      "source": [
        "grocer = [\"banana\", [\"orange\", [\"apple\", \"eggplant\", \"melon\", \"spinach\", \"cheese\", \"leek\" ], \"water\"], \"mandarin\"]\n",
        "print([grocer[1][1][1], grocer[1][1][3], grocer[1][1][5]])"
      ]
    },
    {
      "cell_type": "code",
      "execution_count": null,
      "metadata": {
        "id": "zruw4HykTSiI"
      },
      "outputs": [],
      "source": []
    },
    {
      "cell_type": "code",
      "execution_count": null,
      "metadata": {
        "colab": {
          "base_uri": "https://localhost:8080/"
        },
        "id": "MDiD3ceCTSkj",
        "outputId": "b391dfd6-cd0e-4dba-b60d-598bf45f960a"
      },
      "outputs": [
        {
          "name": "stdout",
          "output_type": "stream",
          "text": [
            "My two favorite flowers are tulip and rose, two favorite colors are blue and green.\n"
          ]
        }
      ],
      "source": [
        "# text = \"My two favorite flowers are tulip and rose, two favorite colors are blue and green.\"\n",
        "\n",
        "flowers = [[\"jasmine\", [\"lavender\", \"rose\"], \"tulip\"]]\n",
        "colors = [\"red\", (\"blue\", [\"yellow\", \"green\"]), \"pink\"]\n",
        "\n",
        "text = \"My two favorite flowers are {} and {}, two favorite colors are {} and {}.\".format(flowers[0][2], flowers[0][1][1], colors[1][0], colors[1][1][1])\n",
        "print(text)"
      ]
    },
    {
      "cell_type": "code",
      "execution_count": null,
      "metadata": {
        "colab": {
          "base_uri": "https://localhost:8080/"
        },
        "id": "aR40i9U0TSm4",
        "outputId": "219b985d-68f4-4eac-92f0-80eec69f911c"
      },
      "outputs": [
        {
          "name": "stdout",
          "output_type": "stream",
          "text": [
            "I am 40 years old. \n",
            "\tI have two children. \n",
            "\t\tData Science is my IT domain.\n"
          ]
        }
      ],
      "source": [
        "escapes = [\"\\n\\t\", (\"\\t\", \"\\t\\t\"), [\"\\n\", \"\\n\\t\\t\"]]\n",
        "sentence = \"I am 40 years old. {}I have two children. {}Data Science is my IT domain.\".format(escapes[0], escapes[2][1])\n",
        "print(sentence)"
      ]
    },
    {
      "cell_type": "code",
      "execution_count": null,
      "metadata": {
        "id": "xpNZFHx6wRdS"
      },
      "outputs": [],
      "source": [
        "# Dictionaries\n",
        "# Gerçek bir sözlük düşünün. Kelimeleri ve anlamlarını içerir. Python'da\n",
        "# kelimeleri anahtar, kelimelerin anlamlarını değer olarak kabul edebilirsiniz.\n",
        "# A dictionary in Python is a collection of key-value pairs which are called\n",
        "# items. The dictionary is surrounded by curly braces {}."
      ]
    },
    {
      "cell_type": "code",
      "execution_count": null,
      "metadata": {
        "id": "Qwf5DQvkwRnu"
      },
      "outputs": [],
      "source": [
        "# Creating a Tuple\n",
        "\n",
        "empty_dict_1 = {}\n",
        "\n",
        "empty_dict_2 = dict()"
      ]
    },
    {
      "cell_type": "code",
      "execution_count": null,
      "metadata": {
        "colab": {
          "base_uri": "https://localhost:8080/"
        },
        "id": "8jw0dNdnwRrI",
        "outputId": "e833d813-a20f-46ed-c0d6-924e361f414e"
      },
      "outputs": [
        {
          "name": "stdout",
          "output_type": "stream",
          "text": [
            "<class 'dict'>\n"
          ]
        }
      ],
      "source": [
        "empty_dict_1 = {}\n",
        "\n",
        "print(type(empty_dict_1))"
      ]
    },
    {
      "cell_type": "code",
      "execution_count": null,
      "metadata": {
        "id": "Q0aLpfhTwRuD"
      },
      "outputs": [],
      "source": [
        "my_dict = {'key1': 'value1',\n",
        "            'key2': 'value2',\n",
        "            'key3': 'value3'\n",
        "            }"
      ]
    },
    {
      "cell_type": "code",
      "execution_count": null,
      "metadata": {
        "colab": {
          "base_uri": "https://localhost:8080/"
        },
        "id": "WLk9gOFiwRwu",
        "outputId": "af679529-2d47-4fe5-bf8c-1a86d23f2906"
      },
      "outputs": [
        {
          "name": "stdout",
          "output_type": "stream",
          "text": [
            "Denver\n"
          ]
        }
      ],
      "source": [
        "state_capitals = {'Arkansas': 'Little Rock',\n",
        "                  'Colorado': 'Denver',\n",
        "                  'California': 'Sacramento',\n",
        "                  'Georgia': 'Atlanta' \n",
        "                 }\n",
        "\n",
        "print(state_capitals['Colorado']) # accessing method"
      ]
    },
    {
      "cell_type": "code",
      "execution_count": null,
      "metadata": {
        "colab": {
          "base_uri": "https://localhost:8080/"
        },
        "id": "J42Ha_9gwRz7",
        "outputId": "b89cd91c-4fc6-446f-d847-7e51838dc2a2"
      },
      "outputs": [
        {
          "name": "stdout",
          "output_type": "stream",
          "text": [
            "{'Arkansas': 'Little Rock', 'Colorado': 'Denver', 'California': 'Sacramento', 'Georgia': 'Atlanta', 'Virginia': 'Richmond'}\n"
          ]
        }
      ],
      "source": [
        "state_capitals = {'Arkansas': 'Little Rock',\n",
        "                  'Colorado': 'Denver',\n",
        "                  'California': 'Sacramento',\n",
        "                  'Georgia': 'Atlanta' \n",
        "                 }\n",
        "\n",
        "state_capitals['Virginia'] = 'Richmond' # adding a new item\n",
        "\n",
        "print(state_capitals)"
      ]
    },
    {
      "cell_type": "code",
      "execution_count": null,
      "metadata": {
        "id": "yRpt8YngwR11"
      },
      "outputs": [],
      "source": [
        "# Note: Note that keys and values can be of different types.\n",
        "\n",
        "mix_values = {'animal': ('dog', 'cat'),  # tuple type\n",
        "              'planet': ['Neptun', 'Saturn', 'Jupiter'],  # list type\n",
        "              'number': 40,  # int type\n",
        "              'pi': 3.14,  # float type\n",
        "              'is_good': True}  # bool type\n",
        "\n",
        "mix_keys = {22 : \"integer\",\n",
        "            1.2 : \"float\",\n",
        "            True : \"boolean\",\n",
        "            \"key\" : \"string\"}"
      ]
    },
    {
      "cell_type": "code",
      "execution_count": null,
      "metadata": {
        "colab": {
          "base_uri": "https://localhost:8080/"
        },
        "id": "ELW_D9IyxZxm",
        "outputId": "826c1ad7-7c72-498e-9540-719a35d9ab35"
      },
      "outputs": [
        {
          "name": "stdout",
          "output_type": "stream",
          "text": [
            "{'animal': 'dog', 'planet': 'neptun', 'number': 40, 'pi': 3.14, 'is_good': True}\n"
          ]
        }
      ],
      "source": [
        "dict_by_dict = dict(animal='dog', planet='neptun', number=40, pi=3.14, is_good=True)\n",
        "\n",
        "print(dict_by_dict)"
      ]
    },
    {
      "cell_type": "code",
      "execution_count": null,
      "metadata": {
        "colab": {
          "base_uri": "https://localhost:8080/"
        },
        "id": "htvUL-v4xZ00",
        "outputId": "c81ad6d9-4126-47b2-faa0-57b6cd3a1003"
      },
      "outputs": [
        {
          "name": "stdout",
          "output_type": "stream",
          "text": [
            "dict_items([('animal', 'dog'), ('planet', 'neptun'), ('number', 40), ('pi', 3.14), ('is_good', True)]) \n",
            "\n",
            "dict_keys(['animal', 'planet', 'number', 'pi', 'is_good']) \n",
            "\n",
            "dict_values(['dog', 'neptun', 40, 3.14, True])\n"
          ]
        }
      ],
      "source": [
        "dict_by_dict = {'animal': 'dog',\n",
        "                'planet': 'neptun',\n",
        "                'number': 40,\n",
        "                'pi': 3.14,\n",
        "                'is_good': True}\n",
        "\n",
        "print(dict_by_dict.items(), '\\n')\n",
        "print(dict_by_dict.keys(), '\\n')\n",
        "print(dict_by_dict.values())"
      ]
    },
    {
      "cell_type": "code",
      "execution_count": null,
      "metadata": {
        "colab": {
          "base_uri": "https://localhost:8080/"
        },
        "id": "lLWhgY7TxZ34",
        "outputId": "5f053f21-88c1-4700-a8f5-225e0a351d76"
      },
      "outputs": [
        {
          "name": "stdout",
          "output_type": "stream",
          "text": [
            "{'animal': 'dog', 'planet': 'neptun', 'number': 40, 'pi': 3.14, 'is_good': True, 'is_bad': False}\n"
          ]
        }
      ],
      "source": [
        "# You have learned that you can add a new item by assigning value to a key that\n",
        "# is not in the dictionary. Likewise, you can add new items using the .update()\n",
        "# method\n",
        "\n",
        "dict_by_dict = {'animal': 'dog',\n",
        "                'planet': 'neptun',\n",
        "                'number': 40,\n",
        "                'pi': 3.14,\n",
        "                'is_good': True}\n",
        "\n",
        "dict_by_dict.update({'is_bad': False})\n",
        "\n",
        "print(dict_by_dict)"
      ]
    },
    {
      "cell_type": "code",
      "execution_count": null,
      "metadata": {
        "colab": {
          "base_uri": "https://localhost:8080/"
        },
        "id": "4rJ_JvvHxZ5v",
        "outputId": "7b33530b-20a3-4bf3-8bba-8d36175c1d96"
      },
      "outputs": [
        {
          "name": "stdout",
          "output_type": "stream",
          "text": [
            "{'planet': 'neptun', 'number': 40, 'pi': 3.14, 'is_good': True, 'is_bad': False}\n"
          ]
        }
      ],
      "source": [
        "dict_by_dict = {'animal': 'dog',\n",
        "               'planet': 'neptun',\n",
        "               'number': 40,\n",
        "               'pi': 3.14,\n",
        "               'is_good': True,\n",
        "               'is_bad': False}\n",
        "\n",
        "del dict_by_dict['animal']\n",
        "\n",
        "print(dict_by_dict) "
      ]
    },
    {
      "cell_type": "code",
      "execution_count": null,
      "metadata": {
        "colab": {
          "base_uri": "https://localhost:8080/"
        },
        "id": "L6mPIvVmxZ7u",
        "outputId": "9c09a2cf-7833-4b56-9e94-08625e8ee62c"
      },
      "outputs": [
        {
          "name": "stdout",
          "output_type": "stream",
          "text": [
            "True\n",
            "True\n"
          ]
        }
      ],
      "source": [
        "# in and not in operator\n",
        "dict_by_dict = {'planet': 'neptun',\n",
        "               'number': 40,\n",
        "               'pi': 3.14,\n",
        "               'is_good': True,\n",
        "               'is_bad': False}\n",
        "\n",
        "print('pi' in dict_by_dict) \n",
        "print('animal' not in dict_by_dict)  # remember, we have deleted 'animal'"
      ]
    },
    {
      "cell_type": "code",
      "execution_count": null,
      "metadata": {
        "colab": {
          "base_uri": "https://localhost:8080/"
        },
        "id": "o_mz5RKxxZ-r",
        "outputId": "689a9d3d-228e-4581-cff7-41a4159435e9"
      },
      "outputs": [
        {
          "name": "stdout",
          "output_type": "stream",
          "text": [
            "32\n"
          ]
        }
      ],
      "source": [
        "student_ages = {\"Harry\": 29,\n",
        "                \"Clark\": 32,\n",
        "                \"Peter\": 22,\n",
        "                \"Bruce\": 36\n",
        "                }\n",
        "print(student_ages['Clark'])"
      ]
    },
    {
      "cell_type": "code",
      "execution_count": null,
      "metadata": {
        "id": "osjxok_qxaA1"
      },
      "outputs": [],
      "source": [
        "school_records={\n",
        "    \"personal_info\":\n",
        "        {\"kid\":{\"tom\": {\"class\": \"intermediate\", \"age\": 10},\n",
        "                \"sue\": {\"class\": \"elementary\", \"age\": 8}\n",
        "               },\n",
        "         \"teen\":{\"joseph\":{\"class\": \"college\", \"age\": 19},\n",
        "                 \"marry\":{\"class\": \"high school\", \"age\": 16}\n",
        "               },               \n",
        "        },\n",
        "        \n",
        "    \"grades_info\":\n",
        "        {\"kid\":{\"tom\": {\"math\": 88, \"speech\": 69},\n",
        "                \"sue\": {\"math\": 90, \"speech\": 81}\n",
        "               },\n",
        "         \"teen\":{\"joseph\":{\"coding\": 80, \"math\": 89},\n",
        "                 \"marry\":{\"coding\": 70, \"math\": 96}\n",
        "               },               \n",
        "        },        \n",
        "}"
      ]
    },
    {
      "cell_type": "code",
      "execution_count": null,
      "metadata": {
        "colab": {
          "base_uri": "https://localhost:8080/"
        },
        "id": "vQOZP2iRxaDn",
        "outputId": "ddc19e32-63e9-4514-c6b4-abafb1c769a3"
      },
      "outputs": [
        {
          "name": "stdout",
          "output_type": "stream",
          "text": [
            "16\n"
          ]
        }
      ],
      "source": [
        "school_records={\n",
        "    \"personal_info\":\n",
        "        {\"kid\":{\"tom\": {\"class\":\"intermediate\", \"age\":10},\n",
        "                \"sue\": {\"class\":\"elementary\", \"age\":8}\n",
        "               },\n",
        "         \"teen\":{\"joseph\":{\"class\":\"college\", \"age\":19},\n",
        "                 \"marry\":{\"class\":\"high school\", \"age\":16}\n",
        "               },               \n",
        "        },\n",
        "}\n",
        "\n",
        "print(school_records['personal_info']['teen']['marry']['age'])"
      ]
    },
    {
      "cell_type": "code",
      "execution_count": null,
      "metadata": {
        "colab": {
          "base_uri": "https://localhost:8080/"
        },
        "id": "dFfM6vMg0Tv0",
        "outputId": "8b13feca-a4fa-4f20-a8a8-4c0da122bbdb"
      },
      "outputs": [
        {
          "name": "stdout",
          "output_type": "stream",
          "text": [
            "22\n"
          ]
        }
      ],
      "source": [
        "customers = { \n",
        "'bank': \n",
        "{1: {'name': 'James', 'age': '27', 'sex': 'Male'}, \n",
        " 2: {'name': 'Nicole', 'age': '25', 'sex': 'Female'},  \n",
        " 3: {'name': 'Andy', 'age': '38', 'sex': 'Male'}, \n",
        " 4: {'name': 'Alex', 'age': '19', 'sex': 'Male'}, \n",
        " 5: {'name': 'Linda', 'age': '33', 'sex': 'Female'}, \n",
        "},\n",
        "'insurance':\n",
        "{1: {'name': 'Jashua', 'age': '33', 'sex': 'Male'}, \n",
        " 2: {'name': 'Marry', 'age': '66', 'sex': 'Female'},  \n",
        " 3: {'name': 'Adam', 'age': '56', 'sex': 'Male'}, \n",
        " 4: {'name': 'Samuel', 'age': '54', 'sex': 'Male'}, \n",
        " 5: {'name': 'Lisa', 'age': '22', 'sex': 'Female'},\n",
        "},\n",
        "}\n",
        "\n",
        "print(customers['insurance'][5]['age'])"
      ]
    },
    {
      "cell_type": "code",
      "execution_count": null,
      "metadata": {
        "colab": {
          "base_uri": "https://localhost:8080/"
        },
        "id": "QX-60vGW0Tyk",
        "outputId": "e92dddcf-7e53-4675-ca02-bf7328d9320a"
      },
      "outputs": [
        {
          "name": "stdout",
          "output_type": "stream",
          "text": [
            "<class 'set'>\n"
          ]
        }
      ],
      "source": [
        "empty_set = set()\n",
        "\n",
        "print(type(empty_set))"
      ]
    },
    {
      "cell_type": "code",
      "execution_count": null,
      "metadata": {
        "colab": {
          "base_uri": "https://localhost:8080/"
        },
        "id": "u6TR29rD0T0y",
        "outputId": "68043a7c-df89-4bd6-f5f0-ab77b599811b"
      },
      "outputs": [
        {
          "name": "stdout",
          "output_type": "stream",
          "text": [
            "{'darkblue', 'yellow', 'purple', 'red', 'orange'}\n",
            "{'darkblue', 'yellow', 'purple', 'red', 'orange'}\n"
          ]
        }
      ],
      "source": [
        "colorset = {'purple', 'orange', 'red', 'darkblue', 'yellow', 'red'}\n",
        "\n",
        "print(colorset)\n",
        "print(colorset)"
      ]
    },
    {
      "cell_type": "code",
      "execution_count": null,
      "metadata": {
        "colab": {
          "base_uri": "https://localhost:8080/"
        },
        "id": "UtUCxVFV0T21",
        "outputId": "62e755d3-ace3-4e7e-ebd4-cdf005f33ac8"
      },
      "outputs": [
        {
          "name": "stdout",
          "output_type": "stream",
          "text": [
            "{'i', 'l', 'f', 'h', 'n', 's', 'u', 'e'}\n"
          ]
        }
      ],
      "source": [
        "s = set('unselfishness')\n",
        "\n",
        "print(s)\n",
        "\n",
        "# Görüldüğü gibi string türündeki verilerin harfleri sette sadece bir kez\n",
        "# yazılır. Bu kapsamda set kullanmak tekrarlardan kaçınmanıza yardımcı olabilir.\n",
        "# Bir listeyi bir kümeye dönüştürelim ve elemanlarının tekrarlarına bakalım:"
      ]
    },
    {
      "cell_type": "code",
      "execution_count": null,
      "metadata": {
        "colab": {
          "base_uri": "https://localhost:8080/"
        },
        "id": "1_CcJXzT0T5a",
        "outputId": "228c6987-b9d4-4217-d4f7-09e20e7346f9"
      },
      "outputs": [
        {
          "name": "stdout",
          "output_type": "stream",
          "text": [
            "{'orchid', 'rose', 'violet', 'carnation'}\n",
            "['orchid', 'rose', 'violet', 'carnation']\n"
          ]
        }
      ],
      "source": [
        "flower_list = ['rose', 'violet', 'carnation', 'rose', 'orchid', 'rose', 'orchid']\n",
        "flowerset = set(flower_list)\n",
        "flowerlist = list(flowerset)\n",
        "\n",
        "print(flowerset) \n",
        "print(flowerlist)"
      ]
    },
    {
      "cell_type": "code",
      "execution_count": null,
      "metadata": {
        "colab": {
          "base_uri": "https://localhost:8080/"
        },
        "id": "y4XU6GpNWfEE",
        "outputId": "9db5d344-adec-4a39-fd89-f656a10afcee"
      },
      "outputs": [
        {
          "name": "stdout",
          "output_type": "stream",
          "text": [
            "{'b', 'a', 'r', 'd', 'c'}\n"
          ]
        }
      ],
      "source": [
        "a = set('abracadabra')\n",
        "\n",
        "print(a) "
      ]
    },
    {
      "cell_type": "code",
      "execution_count": null,
      "metadata": {
        "colab": {
          "base_uri": "https://localhost:8080/"
        },
        "id": "eIuMo2ZMWfHB",
        "outputId": "240256de-2616-472d-b9f1-4485e5eca446"
      },
      "outputs": [
        {
          "name": "stdout",
          "output_type": "stream",
          "text": [
            "{'b', 'r', 'd'}\n",
            "{'b', 'r', 'd'}\n"
          ]
        }
      ],
      "source": [
        "a = set('abracadabra')\n",
        "b = set('alacazam')\n",
        "\n",
        "print(a - b)  # same as '.difference()' method\n",
        "print(a.difference(b)) # a difference from b"
      ]
    },
    {
      "cell_type": "code",
      "execution_count": null,
      "metadata": {
        "colab": {
          "base_uri": "https://localhost:8080/"
        },
        "id": "UGJeCPoCWfJY",
        "outputId": "0cf67da8-9504-4c68-bb42-8ea13529f410"
      },
      "outputs": [
        {
          "name": "stdout",
          "output_type": "stream",
          "text": [
            "{'z', 'b', 'l', 'm', 'a', 'r', 'd', 'c'}\n",
            "{'z', 'b', 'l', 'm', 'a', 'r', 'd', 'c'}\n"
          ]
        }
      ],
      "source": [
        "a = set('abracadabra')\n",
        "b = set('alacazam')\n",
        "\n",
        "print(a | b)  # same as '.union()' method\n",
        "print(a.union(b)) # unification of a with b"
      ]
    },
    {
      "cell_type": "code",
      "execution_count": null,
      "metadata": {
        "colab": {
          "base_uri": "https://localhost:8080/"
        },
        "id": "-sQGWVwdWfLK",
        "outputId": "603eb502-88af-4475-8ebf-48c68c17b6e5"
      },
      "outputs": [
        {
          "name": "stdout",
          "output_type": "stream",
          "text": [
            "{'a', 'c'}\n",
            "{'a', 'c'}\n"
          ]
        }
      ],
      "source": [
        "a = set('abracadabra')\n",
        "b = set('alacazam')\n",
        "\n",
        "print(a & b)  # same as '.intersection()' method\n",
        "print(a.intersection(b)) # intersection of a and b"
      ]
    },
    {
      "cell_type": "code",
      "execution_count": null,
      "metadata": {
        "colab": {
          "base_uri": "https://localhost:8080/"
        },
        "id": "4D9NKajrXu1y",
        "outputId": "ae7b523f-1bb9-4485-c0c4-74e36f1887ad"
      },
      "outputs": [
        {
          "name": "stdout",
          "output_type": "stream",
          "text": [
            "{'b', 'a', 'r', 'd'}\n"
          ]
        }
      ],
      "source": [
        "a = set('abracadabra')\n",
        "\n",
        "a.remove('c') # we delete 'c' from the set\n",
        "print(a)"
      ]
    },
    {
      "cell_type": "code",
      "execution_count": null,
      "metadata": {
        "id": "SmWgLQTsXu5I"
      },
      "outputs": [],
      "source": [
        "a = set('abracadabra')\n",
        "\n",
        "a.add('c') # we add 'c' again into the set\n",
        "print(a)"
      ]
    },
    {
      "cell_type": "code",
      "execution_count": null,
      "metadata": {
        "colab": {
          "base_uri": "https://localhost:8080/"
        },
        "id": "kyL63mFKXu7m",
        "outputId": "1f074285-d991-4c63-8484-ad2dbe1a0e5a"
      },
      "outputs": [
        {
          "name": "stdout",
          "output_type": "stream",
          "text": [
            "13\n",
            "{'i', 'd', 't', 'l', 'f', 'h', 'n', 'v', 's', ' ', 'o', 'e', 'c'}\n"
          ]
        }
      ],
      "source": [
        "print(len(set('listen to the voice of enlisted')))\n",
        "print(set('listen to the voice of enlisted'))"
      ]
    },
    {
      "cell_type": "code",
      "execution_count": null,
      "metadata": {
        "colab": {
          "base_uri": "https://localhost:8080/"
        },
        "id": "3SlaDBhaXvAE",
        "outputId": "f6d160c3-e01a-4279-8782-ad1d1c2b4525"
      },
      "outputs": [
        {
          "name": "stdout",
          "output_type": "stream",
          "text": [
            "25\n"
          ]
        }
      ],
      "source": [
        "numbers = {}\n",
        "\n",
        "numbers['x'] = 12\n",
        "numbers['y'] = 4\n",
        "numbers.update({'z': 3})\n",
        "\n",
        "print(numbers['x'] + numbers['y'] + numbers['z']**2)"
      ]
    },
    {
      "cell_type": "code",
      "execution_count": null,
      "metadata": {
        "id": "slkQ5fmkXvCm"
      },
      "outputs": [],
      "source": [
        "numbers_10 = [10, 30, 40, 50, 60, 70, 80, 90, 100]\n",
        "numbers_10.insert(1, 20)\n",
        "print(numbers_10)"
      ]
    },
    {
      "cell_type": "code",
      "execution_count": null,
      "metadata": {
        "colab": {
          "base_uri": "https://localhost:8080/"
        },
        "id": "yhzE_L1yXvEj",
        "outputId": "7e27d7ae-3719-4a25-88bf-a0dfc405c4ce"
      },
      "outputs": [
        {
          "name": "stdout",
          "output_type": "stream",
          "text": [
            "spinach\n"
          ]
        }
      ],
      "source": [
        "fruits_vegetables = [\"fruit\", \"vegetable\", [\"apple\", \"banana\", [\"mango\", \"avocado\"]], [\"spinach\", \"broccoli\"]]\n",
        "print(fruits_vegetables[3][0])"
      ]
    },
    {
      "cell_type": "code",
      "execution_count": null,
      "metadata": {
        "id": "8GJMZCwXXvGb"
      },
      "outputs": [],
      "source": []
    },
    {
      "cell_type": "code",
      "execution_count": null,
      "metadata": {
        "id": "7Hx-KzsAXvID"
      },
      "outputs": [],
      "source": []
    }
  ],
  "metadata": {
    "colab": {
      "collapsed_sections": [],
      "name": "Collections.ipynb",
      "provenance": []
    },
    "interpreter": {
      "hash": "27f6fea6f47ae512550f0b8facdbd035a93e1dd89633f7bf2dd00a2502c71d0d"
    },
    "kernelspec": {
      "display_name": "Python 3.10.1 64-bit",
      "language": "python",
      "name": "python3"
    },
    "language_info": {
      "codemirror_mode": {
        "name": "ipython",
        "version": 3
      },
      "file_extension": ".py",
      "mimetype": "text/x-python",
      "name": "python",
      "nbconvert_exporter": "python",
      "pygments_lexer": "ipython3",
      "version": "3.10.1"
    }
  },
  "nbformat": 4,
  "nbformat_minor": 0
}
