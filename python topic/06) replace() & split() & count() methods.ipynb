{
  "cells": [
    {
      "cell_type": "code",
      "execution_count": null,
      "metadata": {
        "colab": {
          "base_uri": "https://localhost:8080/"
        },
        "id": "VH8Dv_Zdw3ZP",
        "outputId": "2de86fd0-c7ec-4f7c-865a-b46c62b6562a"
      },
      "outputs": [
        {
          "name": "stdout",
          "output_type": "stream",
          "text": [
            "['ab', 'ef', 'gh', '']\n"
          ]
        }
      ],
      "source": [
        "print('abcdefcdghcd'.split('cd'))"
      ]
    },
    {
      "cell_type": "code",
      "execution_count": null,
      "metadata": {
        "colab": {
          "base_uri": "https://localhost:8080/"
        },
        "id": "4ZFV9QMBxWvZ",
        "outputId": "87ea8e99-c15d-48d4-f248-3c21275443e9"
      },
      "outputs": [
        {
          "name": "stdout",
          "output_type": "stream",
          "text": [
            "0\n"
          ]
        }
      ],
      "source": [
        "print(\"xyyzxyzxzxyy\".count('xyy', 2, 11))"
      ]
    },
    {
      "cell_type": "code",
      "execution_count": null,
      "metadata": {
        "colab": {
          "base_uri": "https://localhost:8080/"
        },
        "id": "pWX--YlUxa_F",
        "outputId": "870e7677-3abd-4f24-d95e-e55bbf0767c6"
      },
      "outputs": [
        {
          "name": "stdout",
          "output_type": "stream",
          "text": [
            "Heeeo\n",
            "Heelo\n",
            "Heeeo\n",
            "Heo\n"
          ]
        }
      ],
      "source": [
        "print(\"Hello\".replace(\"l\", \"e\"))\n",
        "print(\"Hello\".replace(\"l\", \"e\", 1))\n",
        "print(\"Hello\".replace(\"l\", \"e\", 3))\n",
        "print(\"Hello\".replace(\"l\", \"\"))"
      ]
    },
    {
      "cell_type": "code",
      "execution_count": null,
      "metadata": {
        "colab": {
          "base_uri": "https://localhost:8080/"
        },
        "id": "Ab2G4oTg5PiJ",
        "outputId": "d50695e3-a4b8-4976-fb5d-cbc327ab5861"
      },
      "outputs": [
        {
          "data": {
            "text/plain": [
              "['abc', 'ef', 'ghc', '']"
            ]
          },
          "execution_count": 3,
          "metadata": {},
          "output_type": "execute_result"
        }
      ],
      "source": [
        "'abcdefdghcd'.split(\"d\")"
      ]
    },
    {
      "cell_type": "code",
      "execution_count": null,
      "metadata": {
        "colab": {
          "base_uri": "https://localhost:8080/"
        },
        "id": "aXhuH_c75Pls",
        "outputId": "d1c82d05-54de-4bb0-9aee-75d01d7e665b"
      },
      "outputs": [
        {
          "data": {
            "text/plain": [
              "['abcdef', 'dghcd']"
            ]
          },
          "execution_count": 4,
          "metadata": {},
          "output_type": "execute_result"
        }
      ],
      "source": [
        "'abcdef dghcd'.split()"
      ]
    }
  ],
  "metadata": {
    "colab": {
      "collapsed_sections": [],
      "name": "replace(), split(), count()",
      "provenance": []
    },
    "kernelspec": {
      "display_name": "Python 3",
      "name": "python3"
    }
  },
  "nbformat": 4,
  "nbformat_minor": 0
}
