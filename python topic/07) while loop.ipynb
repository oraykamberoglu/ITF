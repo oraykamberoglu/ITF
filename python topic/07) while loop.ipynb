{
  "cells": [
    {
      "cell_type": "code",
      "execution_count": 1,
      "metadata": {
        "colab": {
          "base_uri": "https://localhost:8080/"
        },
        "id": "tNzGYpf0n2O8",
        "outputId": "c7b1d6a3-18b3-4de1-f9ae-49ee795a650d"
      },
      "outputs": [
        {
          "name": "stdout",
          "output_type": "stream",
          "text": [
            "Hello World! 0\n",
            "Hello World! 1\n",
            "Hello World! 2\n",
            "Hello World! 3\n",
            "Hello World! 4\n",
            "End of while loop\n"
          ]
        }
      ],
      "source": [
        "counter = 0\n",
        "while counter < 5:\n",
        "  print(\"Hello World!\", counter)\n",
        "  counter += 1\n",
        "print(\"End of while loop\")"
      ]
    },
    {
      "cell_type": "code",
      "execution_count": 2,
      "metadata": {},
      "outputs": [
        {
          "name": "stdout",
          "output_type": "stream",
          "text": [
            "of course every day must be good 0\n",
            "of course every day must be good 1\n",
            "of course every day must be good 2\n",
            "of course every day must be good 3\n",
            "of course every day must be good 4\n",
            "you are be happy\n"
          ]
        }
      ],
      "source": [
        "counter = 0\n",
        "while counter < 5:\n",
        "    print(\"of course every day must be good\",counter)\n",
        "    counter +=1\n",
        "print(\"you are be happy\")"
      ]
    },
    {
      "cell_type": "code",
      "execution_count": null,
      "metadata": {},
      "outputs": [],
      "source": []
    },
    {
      "cell_type": "code",
      "execution_count": null,
      "metadata": {},
      "outputs": [],
      "source": []
    }
  ],
  "metadata": {
    "colab": {
      "collapsed_sections": [],
      "name": "while loop.ipynb",
      "provenance": []
    },
    "interpreter": {
      "hash": "27f6fea6f47ae512550f0b8facdbd035a93e1dd89633f7bf2dd00a2502c71d0d"
    },
    "kernelspec": {
      "display_name": "Python 3.10.1 64-bit",
      "language": "python",
      "name": "python3"
    },
    "language_info": {
      "codemirror_mode": {
        "name": "ipython",
        "version": 3
      },
      "file_extension": ".py",
      "mimetype": "text/x-python",
      "name": "python",
      "nbconvert_exporter": "python",
      "pygments_lexer": "ipython3",
      "version": "3.10.1"
    }
  },
  "nbformat": 4,
  "nbformat_minor": 0
}
